{
  "nbformat": 4,
  "nbformat_minor": 0,
  "metadata": {
    "colab": {
      "provenance": [],
      "authorship_tag": "ABX9TyNHheGKSKD5FCxRvE21H43d",
      "include_colab_link": true
    },
    "kernelspec": {
      "name": "python3",
      "display_name": "Python 3"
    },
    "language_info": {
      "name": "python"
    }
  },
  "cells": [
    {
      "cell_type": "markdown",
      "metadata": {
        "id": "view-in-github",
        "colab_type": "text"
      },
      "source": [
        "<a href=\"https://colab.research.google.com/github/cctanaka/chatbot_gemini/blob/main/ChatBot_Google_Gemini.ipynb\" target=\"_parent\"><img src=\"https://colab.research.google.com/assets/colab-badge.svg\" alt=\"Open In Colab\"/></a>"
      ]
    },
    {
      "cell_type": "code",
      "execution_count": 12,
      "metadata": {
        "id": "4m4s1LiS61EI"
      },
      "outputs": [],
      "source": [
        "!pip install -q -U google-generativeai"
      ]
    },
    {
      "cell_type": "code",
      "source": [
        "# Importa Python SDK\n",
        "import google.generativeai as genai\n",
        "# usado para armazenar a API  Key de modo seguro\n",
        "from google.colab import userdata\n",
        "minha_chave=userdata.get('Chave_IA')\n",
        "\n",
        "genai.configure(api_key=minha_chave)"
      ],
      "metadata": {
        "id": "dBsf8Zcv64QI"
      },
      "execution_count": 13,
      "outputs": []
    },
    {
      "cell_type": "code",
      "source": [
        "# laço pelos modelos\n",
        "for m in genai.list_models():\n",
        "  if 'generateContent' in m.supported_generation_methods:\n",
        "    print(m.name)"
      ],
      "metadata": {
        "colab": {
          "base_uri": "https://localhost:8080/",
          "height": 139
        },
        "id": "r5dlI65Z7CvG",
        "outputId": "54409c79-6181-4cf1-bcb9-23fb26e4a414"
      },
      "execution_count": 14,
      "outputs": [
        {
          "output_type": "stream",
          "name": "stdout",
          "text": [
            "models/gemini-1.0-pro\n",
            "models/gemini-1.0-pro-001\n",
            "models/gemini-1.0-pro-latest\n",
            "models/gemini-1.0-pro-vision-latest\n",
            "models/gemini-1.5-pro-latest\n",
            "models/gemini-pro\n",
            "models/gemini-pro-vision\n"
          ]
        }
      ]
    },
    {
      "cell_type": "markdown",
      "source": [
        "Configuração do modelo"
      ],
      "metadata": {
        "id": "X1twD__n-oT4"
      }
    },
    {
      "cell_type": "code",
      "source": [
        "generation_config ={\n",
        "    \"candidate_count\": 1,\n",
        "    \"temperature\": 0.5\n",
        "}"
      ],
      "metadata": {
        "id": "HPhGGo4w7f7d"
      },
      "execution_count": 15,
      "outputs": []
    },
    {
      "cell_type": "code",
      "source": [
        "safety_settings={\n",
        "    \"HARASSMENT\": \"BLOCK_NONE\",\n",
        "    \"HATE\": \"BLOCK_NONE\",\n",
        "    \"SEXUAL\": \"BLOCK_NONE\",\n",
        "    \"DANGER\": \"BLOCK_NONE\"\n",
        "}"
      ],
      "metadata": {
        "id": "GcRm1dJo9i17"
      },
      "execution_count": 16,
      "outputs": []
    },
    {
      "cell_type": "markdown",
      "source": [
        "Escolha do modelo"
      ],
      "metadata": {
        "id": "6-SBt7Q8-xKU"
      }
    },
    {
      "cell_type": "code",
      "source": [
        "# Modelo usado\n",
        "model =genai.GenerativeModel('gemini-1.0-pro',\n",
        "                             generation_config=generation_config,\n",
        "                             safety_settings=safety_settings)"
      ],
      "metadata": {
        "id": "oo7OZmS6-04U"
      },
      "execution_count": 17,
      "outputs": []
    },
    {
      "cell_type": "markdown",
      "source": [
        "Usando o modelo. Chat"
      ],
      "metadata": {
        "id": "FUqIJ55C_hc9"
      }
    },
    {
      "cell_type": "code",
      "source": [
        "chat=model.start_chat(history=[])"
      ],
      "metadata": {
        "id": "aB9WC6Eq_lMZ"
      },
      "execution_count": 18,
      "outputs": []
    },
    {
      "cell_type": "code",
      "source": [
        "prompt=\"\"\n",
        "while prompt != \"fim\":\n",
        "  prompt=input(\"Aguardando a entrada do usuário:\")\n",
        "  response = chat.send_message(prompt)\n",
        "  print (\"Resposta: \", response.text, \"\\n\")"
      ],
      "metadata": {
        "colab": {
          "base_uri": "https://localhost:8080/",
          "height": 121
        },
        "id": "MTrHi0yQAYNK",
        "outputId": "98d15d76-53d7-4989-e933-543d23d24ed9"
      },
      "execution_count": 19,
      "outputs": [
        {
          "output_type": "stream",
          "name": "stdout",
          "text": [
            "Aguardando a entrada do usuário:qual é o seu nome?\n",
            "Resposta:  Sou Gemini, um modelo de linguagem de IA multimodal desenvolvido pelo Google. Não tenho nome, pois não sou uma pessoa. \n",
            "\n",
            "Aguardando a entrada do usuário:fim\n",
            "Resposta:  Obrigado por conversar comigo. Foi um prazer. \n",
            "\n"
          ]
        }
      ]
    }
  ]
}